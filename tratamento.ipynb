{
 "cells": [
  {
   "cell_type": "code",
   "execution_count": 43,
   "metadata": {},
   "outputs": [],
   "source": [
    "import openpyxl\n",
    "import csv"
   ]
  },
  {
   "cell_type": "code",
   "execution_count": 44,
   "metadata": {},
   "outputs": [],
   "source": [
    "analysts=['Wesley dos Santos Azevedo', 'Matheus Serafim da Silva', 'Danillo Bellopedo Ferraz', 'Paziana de Jesus Silva', 'Thiago Souza', 'Larissa Evaristo', 'Priscila Prado', 'Igor Nascimento', 'Diana Negreiro', 'Daniel Silva', 'Marco Arcuri', 'Bruna Barbosa']\n",
    "filter_datas = []\n",
    "with open(f'diario.csv', 'r') as archive:\n",
    "    datas = csv.reader(archive) # read the datas\n",
    "    for data in datas:\n",
    "        if data[0] in analysts:\n",
    "            filter_datas.append(data)"
   ]
  },
  {
   "cell_type": "code",
   "execution_count": 46,
   "metadata": {},
   "outputs": [],
   "source": [
    "book = openpyxl.Workbook() # create sheet\n",
    "\n",
    "# create pages\n",
    "for name in analysts:\n",
    "    book.create_sheet(name)\n",
    "\n",
    "# add datas for each page\n",
    "for analyst in analysts:\n",
    "    actual_page = book[analyst]\n",
    "    actual_page.append([\"Nome do atualizador\",\"Atualização - Data\",\".\"]) # header from columns\n",
    "    for datas in filter_datas:\n",
    "        if datas[0] == analyst:\n",
    "            actual_page.append(datas)\n",
    "\n",
    "# save\n",
    "# book.save('produtividade-gigantes.xlsx')"
   ]
  }
 ],
 "metadata": {
  "interpreter": {
   "hash": "ffb42509aa766191a9b6949ea486b5d99865217dc5f64682b2a86028af0db642"
  },
  "kernelspec": {
   "display_name": "Python 3.9.7 64-bit ('env': venv)",
   "name": "python3"
  },
  "language_info": {
   "codemirror_mode": {
    "name": "ipython",
    "version": 3
   },
   "file_extension": ".py",
   "mimetype": "text/x-python",
   "name": "python",
   "nbconvert_exporter": "python",
   "pygments_lexer": "ipython3",
   "version": "3.9.7"
  },
  "orig_nbformat": 4
 },
 "nbformat": 4,
 "nbformat_minor": 2
}
