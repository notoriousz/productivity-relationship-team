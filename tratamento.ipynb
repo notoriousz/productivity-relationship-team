{
 "cells": [
  {
   "cell_type": "code",
   "execution_count": 4,
   "metadata": {},
   "outputs": [
    {
     "name": "stdout",
     "output_type": "stream",
     "text": [
      "\n"
     ]
    }
   ],
   "source": [
    "import pandas as pd\n",
    "import openpyxl\n",
    "import csv\n",
    "import json\n"
   ]
  },
  {
   "cell_type": "code",
   "execution_count": 13,
   "metadata": {},
   "outputs": [],
   "source": [
    "analistas=['Wesley dos Santos Azevedo', 'Matheus Serafim da Silva', 'Danillo Bellopedo Ferraz', 'Paziana de Jesus Silva', 'Thiago Souza', 'Larissa Evaristo', 'Priscila Prado', 'Igor Nascimento', 'Diana Negreiro', 'Daniel Silva', 'Marco Arcuri', 'Bruna Barbosa']\n",
    "\n",
    "validator = []\n",
    "with open(f'diario.csv', 'r') as arquivo:\n",
    "    dados = csv.reader(arquivo) # le os dados que estão no csv\n",
    "    validator.append(['Nome do atualizador', 'Atualização - Data', 'Quantidade'])\n",
    "    for dado in dados:\n",
    "        if dado[0] in analistas:\n",
    "            validator.append(dado)\n",
    "\n",
    "json_convert = json.dumps(validator) # converte dados dos analistas em json\n",
    "df = pd.read_json(json_convert) # cria dataframe\n",
    "df.to_excel('teste.xlsx', sheet_name='Teste', na_rep='#N/A', index=False) # cria planilha com os analistas filtrados"
   ]
  }
 ],
 "metadata": {
  "interpreter": {
   "hash": "ffb42509aa766191a9b6949ea486b5d99865217dc5f64682b2a86028af0db642"
  },
  "kernelspec": {
   "display_name": "Python 3.9.7 64-bit ('env': venv)",
   "name": "python3"
  },
  "language_info": {
   "codemirror_mode": {
    "name": "ipython",
    "version": 3
   },
   "file_extension": ".py",
   "mimetype": "text/x-python",
   "name": "python",
   "nbconvert_exporter": "python",
   "pygments_lexer": "ipython3",
   "version": "3.9.7"
  },
  "orig_nbformat": 4
 },
 "nbformat": 4,
 "nbformat_minor": 2
}
